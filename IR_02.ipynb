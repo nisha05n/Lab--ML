{
 "cells": [
  {
   "cell_type": "code",
   "execution_count": 2,
   "id": "45c576f9",
   "metadata": {},
   "outputs": [],
   "source": [
    "import re\n",
    "from collections import defaultdict"
   ]
  },
  {
   "cell_type": "code",
   "execution_count": 3,
   "id": "b5dc6a5e",
   "metadata": {},
   "outputs": [],
   "source": [
    "documents = {\n",
    "    1:\"This is the first document. It contains some text.\",\n",
    "    2:\"The second document in longer. It also contains some text.\",\n",
    "    3:\"This is the third document. It is different from the first two.\",\n",
    "}"
   ]
  },
  {
   "cell_type": "code",
   "execution_count": 4,
   "id": "96cef44a",
   "metadata": {},
   "outputs": [],
   "source": [
    "def preprocess_document(doc):\n",
    "    tokens= re.findall(r'\\wt',doc.lower())\n",
    "    \n",
    "    stop_words = set(['is','the','it','and','some'])\n",
    "    tokens = [ token for token in tokens if token not in stop_words]\n",
    "    return tokens"
   ]
  },
  {
   "cell_type": "code",
   "execution_count": 5,
   "id": "57a8e8d0",
   "metadata": {},
   "outputs": [
    {
     "name": "stdout",
     "output_type": "stream",
     "text": [
      "defaultdict(<class 'list'>, {'st': [1, 3], 'nt': [1, 1, 2, 2, 3, 3], 'xt': [1, 2]})\n"
     ]
    }
   ],
   "source": [
    "inverted_index = defaultdict(list)\n",
    "\n",
    "for doc_id, doc_text in documents.items():\n",
    "    tokens = preprocess_document(doc_text)\n",
    "    for token in tokens:\n",
    "        inverted_index[token].append(doc_id)\n",
    "        \n",
    "print(inverted_index)"
   ]
  },
  {
   "cell_type": "code",
   "execution_count": 6,
   "id": "ee2824e8",
   "metadata": {},
   "outputs": [],
   "source": [
    "def retrieve_documents(query):\n",
    "    query_tokens = preprocess_document(query)\n",
    "    result = set()\n",
    "    for token in query_tokens:\n",
    "        if token in inverted_index:\n",
    "            result.update(inverted_index[token])\n",
    "    return list(result)"
   ]
  },
  {
   "cell_type": "code",
   "execution_count": 7,
   "id": "b50ecfec",
   "metadata": {},
   "outputs": [],
   "source": [
    "query = \"document contains text\"\n",
    "matching_documents = retrieve_documents(query)"
   ]
  },
  {
   "cell_type": "code",
   "execution_count": 8,
   "id": "a38beee3",
   "metadata": {},
   "outputs": [
    {
     "name": "stdout",
     "output_type": "stream",
     "text": [
      "Matching documents for query'document contains text':\n",
      "Document 1:This is the first document. It contains some text.\n",
      "Document 2:The second document in longer. It also contains some text.\n",
      "Document 3:This is the third document. It is different from the first two.\n"
     ]
    }
   ],
   "source": [
    "if matching_documents:\n",
    "    print(f\"Matching documents for query'{query}':\")\n",
    "    for doc_id in matching_documents:\n",
    "        print(f\"Document {doc_id}:{documents[doc_id]}\")\n",
    "else:\n",
    "    print(\"No matching documents found.\")"
   ]
  },
  {
   "cell_type": "code",
   "execution_count": null,
   "id": "7d71dfc7",
   "metadata": {},
   "outputs": [],
   "source": []
  }
 ],
 "metadata": {
  "kernelspec": {
   "display_name": "Python 3 (ipykernel)",
   "language": "python",
   "name": "python3"
  },
  "language_info": {
   "codemirror_mode": {
    "name": "ipython",
    "version": 3
   },
   "file_extension": ".py",
   "mimetype": "text/x-python",
   "name": "python",
   "nbconvert_exporter": "python",
   "pygments_lexer": "ipython3",
   "version": "3.11.5"
  }
 },
 "nbformat": 4,
 "nbformat_minor": 5
}
